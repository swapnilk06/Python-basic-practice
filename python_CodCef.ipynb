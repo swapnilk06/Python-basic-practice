{
 "cells": [
  {
   "cell_type": "code",
   "execution_count": 1,
   "id": "1e761068",
   "metadata": {},
   "outputs": [
    {
     "name": "stdout",
     "output_type": "stream",
     "text": [
      "this is starter time\n"
     ]
    }
   ],
   "source": [
    "print(\"this is starter time\")"
   ]
  },
  {
   "cell_type": "code",
   "execution_count": null,
   "id": "7916db65",
   "metadata": {},
   "outputs": [],
   "source": []
  },
  {
   "cell_type": "code",
   "execution_count": 3,
   "id": "fbd69e1b",
   "metadata": {},
   "outputs": [],
   "source": [
    "# temporary values\n",
    "\n",
    "stud = \"SK\""
   ]
  },
  {
   "cell_type": "code",
   "execution_count": 4,
   "id": "5bd26811",
   "metadata": {},
   "outputs": [
    {
     "data": {
      "text/plain": [
       "'SK'"
      ]
     },
     "execution_count": 4,
     "metadata": {},
     "output_type": "execute_result"
    }
   ],
   "source": [
    "stud"
   ]
  },
  {
   "cell_type": "code",
   "execution_count": null,
   "id": "3ef265d1",
   "metadata": {},
   "outputs": [],
   "source": []
  },
  {
   "cell_type": "code",
   "execution_count": 5,
   "id": "fc45c04a",
   "metadata": {},
   "outputs": [],
   "source": [
    "# Data Types -\n",
    "# int = 10,300\n",
    "# float = 3.14, 15.97\n",
    "# Boolean = TRUE, FALSE\n",
    "# string = \"Swapnil\",\"um\"\n",
    "# complex = 3+4j ==> 3 - real part, 4 - imagnary part\n"
   ]
  },
  {
   "cell_type": "code",
   "execution_count": null,
   "id": "539a502e",
   "metadata": {},
   "outputs": [],
   "source": []
  },
  {
   "cell_type": "code",
   "execution_count": 6,
   "id": "0cb9b1ca",
   "metadata": {},
   "outputs": [],
   "source": [
    "# Operators in python -\n",
    "# - Arithmetic Operators ==> +,-,/,*\n",
    "# - Relational Operators ==> <,>,==,!=\n",
    "# - Logical Operators    ==> & |\n"
   ]
  },
  {
   "cell_type": "code",
   "execution_count": 1,
   "id": "1f3eb012",
   "metadata": {},
   "outputs": [],
   "source": [
    "a = True\n",
    "b = False"
   ]
  },
  {
   "cell_type": "code",
   "execution_count": 12,
   "id": "f56cb8be",
   "metadata": {},
   "outputs": [],
   "source": [
    "# in '&' all 2 operands True then ==> True\n",
    "# in '|' any value True then ==> True"
   ]
  },
  {
   "cell_type": "code",
   "execution_count": 2,
   "id": "a422e5ed",
   "metadata": {},
   "outputs": [
    {
     "data": {
      "text/plain": [
       "True"
      ]
     },
     "execution_count": 2,
     "metadata": {},
     "output_type": "execute_result"
    }
   ],
   "source": [
    "a & a"
   ]
  },
  {
   "cell_type": "code",
   "execution_count": 3,
   "id": "16fd3214",
   "metadata": {},
   "outputs": [
    {
     "data": {
      "text/plain": [
       "False"
      ]
     },
     "execution_count": 3,
     "metadata": {},
     "output_type": "execute_result"
    }
   ],
   "source": [
    "a & b"
   ]
  },
  {
   "cell_type": "code",
   "execution_count": 4,
   "id": "eb2c4732",
   "metadata": {},
   "outputs": [
    {
     "data": {
      "text/plain": [
       "False"
      ]
     },
     "execution_count": 4,
     "metadata": {},
     "output_type": "execute_result"
    }
   ],
   "source": [
    "b & a"
   ]
  },
  {
   "cell_type": "code",
   "execution_count": 5,
   "id": "9e25c2b6",
   "metadata": {},
   "outputs": [
    {
     "data": {
      "text/plain": [
       "False"
      ]
     },
     "execution_count": 5,
     "metadata": {},
     "output_type": "execute_result"
    }
   ],
   "source": [
    "b & b"
   ]
  },
  {
   "cell_type": "code",
   "execution_count": 8,
   "id": "76221ff0",
   "metadata": {},
   "outputs": [
    {
     "data": {
      "text/plain": [
       "True"
      ]
     },
     "execution_count": 8,
     "metadata": {},
     "output_type": "execute_result"
    }
   ],
   "source": [
    "a | a"
   ]
  },
  {
   "cell_type": "code",
   "execution_count": 9,
   "id": "f91e198c",
   "metadata": {},
   "outputs": [
    {
     "data": {
      "text/plain": [
       "True"
      ]
     },
     "execution_count": 9,
     "metadata": {},
     "output_type": "execute_result"
    }
   ],
   "source": [
    "a | b"
   ]
  },
  {
   "cell_type": "code",
   "execution_count": 10,
   "id": "bccb1b03",
   "metadata": {},
   "outputs": [
    {
     "data": {
      "text/plain": [
       "True"
      ]
     },
     "execution_count": 10,
     "metadata": {},
     "output_type": "execute_result"
    }
   ],
   "source": [
    "b | a"
   ]
  },
  {
   "cell_type": "code",
   "execution_count": 11,
   "id": "d2611cf5",
   "metadata": {},
   "outputs": [
    {
     "data": {
      "text/plain": [
       "False"
      ]
     },
     "execution_count": 11,
     "metadata": {},
     "output_type": "execute_result"
    }
   ],
   "source": [
    "b | b"
   ]
  },
  {
   "cell_type": "code",
   "execution_count": null,
   "id": "0dcc32de",
   "metadata": {},
   "outputs": [],
   "source": []
  },
  {
   "cell_type": "code",
   "execution_count": 12,
   "id": "8a47d5d8",
   "metadata": {},
   "outputs": [],
   "source": [
    "# Python Tokens - smallest meaningful Component in a program\n",
    "# - Keywords --> are special reserved words\n",
    "# - Operators\n",
    "# - Identifiers\n",
    "# - Literals"
   ]
  },
  {
   "cell_type": "code",
   "execution_count": null,
   "id": "7c4d9587",
   "metadata": {},
   "outputs": [],
   "source": []
  },
  {
   "cell_type": "code",
   "execution_count": 6,
   "id": "0820aab7",
   "metadata": {},
   "outputs": [
    {
     "ename": "SyntaxError",
     "evalue": "cannot assign to True (3945973857.py, line 1)",
     "output_type": "error",
     "traceback": [
      "\u001b[1;36m  Cell \u001b[1;32mIn[6], line 1\u001b[1;36m\u001b[0m\n\u001b[1;33m    True = a\u001b[0m\n\u001b[1;37m    ^\u001b[0m\n\u001b[1;31mSyntaxError\u001b[0m\u001b[1;31m:\u001b[0m cannot assign to True\n"
     ]
    }
   ],
   "source": [
    "# reserved keyword not assign as variable name\n",
    "True = a"
   ]
  },
  {
   "cell_type": "code",
   "execution_count": 7,
   "id": "112a4527",
   "metadata": {},
   "outputs": [],
   "source": [
    "# identifiers - are names used for variables, functions or objects\n",
    "# Rules -\n",
    "# - no special character expect _(underscore)\n",
    "# - Identifiers are case sensitive e.g. Stud & stud => are different\n",
    "# - First letter cannot be a digit"
   ]
  },
  {
   "cell_type": "code",
   "execution_count": 8,
   "id": "762175d4",
   "metadata": {},
   "outputs": [],
   "source": [
    "# case sensitive example -\n",
    "\n",
    "Student = \"Swapnil\"\n",
    "student = \"Nikhil\""
   ]
  },
  {
   "cell_type": "code",
   "execution_count": 9,
   "id": "ab35e6ae",
   "metadata": {},
   "outputs": [
    {
     "data": {
      "text/plain": [
       "'Nikhil'"
      ]
     },
     "execution_count": 9,
     "metadata": {},
     "output_type": "execute_result"
    }
   ],
   "source": [
    "student"
   ]
  },
  {
   "cell_type": "code",
   "execution_count": 10,
   "id": "443ede91",
   "metadata": {},
   "outputs": [
    {
     "data": {
      "text/plain": [
       "'Swapnil'"
      ]
     },
     "execution_count": 10,
     "metadata": {},
     "output_type": "execute_result"
    }
   ],
   "source": [
    "Student"
   ]
  },
  {
   "cell_type": "code",
   "execution_count": null,
   "id": "5d3941f3",
   "metadata": {},
   "outputs": [],
   "source": [
    "\n"
   ]
  },
  {
   "cell_type": "code",
   "execution_count": 11,
   "id": "9ef70d43",
   "metadata": {},
   "outputs": [],
   "source": [
    "# Literals - are constants in python"
   ]
  },
  {
   "cell_type": "code",
   "execution_count": null,
   "id": "7790cf2c",
   "metadata": {},
   "outputs": [],
   "source": []
  },
  {
   "cell_type": "code",
   "execution_count": 13,
   "id": "30493e00",
   "metadata": {},
   "outputs": [],
   "source": [
    "# Python Strings - sequence of characters enclosed within (' '), (\" \") or (''' ''')"
   ]
  },
  {
   "cell_type": "code",
   "execution_count": 15,
   "id": "0bdefd00",
   "metadata": {},
   "outputs": [
    {
     "name": "stdout",
     "output_type": "stream",
     "text": [
      "HI\n",
      "This is me\n",
      "I am going \n"
     ]
    }
   ],
   "source": [
    "print('HI')\n",
    "print(\"This is me\")\n",
    "print('''I am going ''')"
   ]
  },
  {
   "cell_type": "code",
   "execution_count": null,
   "id": "b43bf321",
   "metadata": {},
   "outputs": [],
   "source": []
  },
  {
   "cell_type": "code",
   "execution_count": null,
   "id": "ae0ea239",
   "metadata": {},
   "outputs": [],
   "source": [
    "# Extracting Individual Characters"
   ]
  },
  {
   "cell_type": "code",
   "execution_count": 21,
   "id": "ca99ce89",
   "metadata": {},
   "outputs": [
    {
     "data": {
      "text/plain": [
       "'M'"
      ]
     },
     "execution_count": 21,
     "metadata": {},
     "output_type": "execute_result"
    }
   ],
   "source": [
    "str1 = \"My name is Swapnil\"\n",
    "str1[0]"
   ]
  },
  {
   "cell_type": "code",
   "execution_count": 22,
   "id": "a13f3967",
   "metadata": {},
   "outputs": [
    {
     "data": {
      "text/plain": [
       "'My name is Swapnil'"
      ]
     },
     "execution_count": 22,
     "metadata": {},
     "output_type": "execute_result"
    }
   ],
   "source": [
    "str1"
   ]
  },
  {
   "cell_type": "code",
   "execution_count": 18,
   "id": "29ac806f",
   "metadata": {},
   "outputs": [
    {
     "data": {
      "text/plain": [
       "'l'"
      ]
     },
     "execution_count": 18,
     "metadata": {},
     "output_type": "execute_result"
    }
   ],
   "source": [
    "str1 = \"My name is Swapnil\"\n",
    "str1[-1]"
   ]
  },
  {
   "cell_type": "code",
   "execution_count": 32,
   "id": "7783b6a2",
   "metadata": {},
   "outputs": [
    {
     "data": {
      "text/plain": [
       "'is Swap'"
      ]
     },
     "execution_count": 32,
     "metadata": {},
     "output_type": "execute_result"
    }
   ],
   "source": [
    "str1[8:15]"
   ]
  },
  {
   "cell_type": "code",
   "execution_count": 31,
   "id": "bd51f12c",
   "metadata": {},
   "outputs": [
    {
     "data": {
      "text/plain": [
       "18"
      ]
     },
     "execution_count": 31,
     "metadata": {},
     "output_type": "execute_result"
    }
   ],
   "source": [
    "len(str1)\n"
   ]
  },
  {
   "cell_type": "code",
   "execution_count": null,
   "id": "7b8af52c",
   "metadata": {},
   "outputs": [],
   "source": []
  },
  {
   "cell_type": "code",
   "execution_count": 33,
   "id": "832802e1",
   "metadata": {},
   "outputs": [
    {
     "data": {
      "text/plain": [
       "'my name is swapnil'"
      ]
     },
     "execution_count": 33,
     "metadata": {},
     "output_type": "execute_result"
    }
   ],
   "source": [
    "str1.lower()"
   ]
  },
  {
   "cell_type": "code",
   "execution_count": 34,
   "id": "f32cc520",
   "metadata": {},
   "outputs": [
    {
     "data": {
      "text/plain": [
       "'MY NAME IS SWAPNIL'"
      ]
     },
     "execution_count": 34,
     "metadata": {},
     "output_type": "execute_result"
    }
   ],
   "source": [
    "str1.upper()"
   ]
  },
  {
   "cell_type": "code",
   "execution_count": null,
   "id": "401c9423",
   "metadata": {},
   "outputs": [],
   "source": []
  },
  {
   "cell_type": "code",
   "execution_count": null,
   "id": "7d5813bb",
   "metadata": {},
   "outputs": [],
   "source": [
    "# String Functions -"
   ]
  },
  {
   "cell_type": "code",
   "execution_count": 39,
   "id": "da85f6f5",
   "metadata": {},
   "outputs": [
    {
     "data": {
      "text/plain": [
       "'My name ia Swapnil'"
      ]
     },
     "execution_count": 39,
     "metadata": {},
     "output_type": "execute_result"
    }
   ],
   "source": [
    "# Replacing a substring\n",
    "\n",
    "str1.replace('s','a')"
   ]
  },
  {
   "cell_type": "code",
   "execution_count": 45,
   "id": "74896cdc",
   "metadata": {},
   "outputs": [
    {
     "data": {
      "text/plain": [
       "2"
      ]
     },
     "execution_count": 45,
     "metadata": {},
     "output_type": "execute_result"
    }
   ],
   "source": [
    "# Number of Occurrences of substring\n",
    "\n",
    "str1 = \"hello hello world\"\n",
    "str1.count(\"lo\")"
   ]
  },
  {
   "cell_type": "code",
   "execution_count": 48,
   "id": "7a09dde7",
   "metadata": {},
   "outputs": [
    {
     "data": {
      "text/plain": [
       "12"
      ]
     },
     "execution_count": 48,
     "metadata": {},
     "output_type": "execute_result"
    }
   ],
   "source": [
    "# Finding the index of substring\n",
    "\n",
    "s1 = 'This is swapnil!!!'\n",
    "s1.find('nil')"
   ]
  },
  {
   "cell_type": "code",
   "execution_count": 53,
   "id": "9bd13b6d",
   "metadata": {},
   "outputs": [
    {
     "name": "stdout",
     "output_type": "stream",
     "text": [
      "I like to play more & teach to everyone\n"
     ]
    },
    {
     "data": {
      "text/plain": [
       "['I like t', ' play m', 're & teach t', ' every', 'ne']"
      ]
     },
     "execution_count": 53,
     "metadata": {},
     "output_type": "execute_result"
    }
   ],
   "source": [
    "# Spliting a string\n",
    "\n",
    "s2 = 'I like to play more & teach to everyone'\n",
    "print(s2)\n",
    "s2.split('o')"
   ]
  },
  {
   "cell_type": "code",
   "execution_count": null,
   "id": "14c34122",
   "metadata": {},
   "outputs": [],
   "source": []
  },
  {
   "cell_type": "code",
   "execution_count": null,
   "id": "cee2f09e",
   "metadata": {},
   "outputs": [],
   "source": [
    "# Data Structure in Python\n",
    "\n",
    "'''\n",
    "Tuple\n",
    "List\n",
    "Dictionary\n",
    "Set\n",
    "'''"
   ]
  },
  {
   "cell_type": "markdown",
   "id": "a47b282c",
   "metadata": {},
   "source": [
    "### Tuple ()\n",
    "- Tuple is an ORDERED collection of elements enclosed within ()\n",
    "- store hetrogenous elements (different types of elements)\n",
    "- Tuples are immutable --> not changable values\n",
    "- E.g.\\\n",
    "  tup1=(1,'a',True)"
   ]
  },
  {
   "cell_type": "code",
   "execution_count": 5,
   "id": "f79cbb67",
   "metadata": {},
   "outputs": [
    {
     "data": {
      "text/plain": [
       "(1, True, 3.14, -2)"
      ]
     },
     "execution_count": 5,
     "metadata": {},
     "output_type": "execute_result"
    }
   ],
   "source": [
    "# tuple\n",
    "\n",
    "tup1 = (1,True,3.14,5-7)\n",
    "tup1"
   ]
  },
  {
   "cell_type": "markdown",
   "id": "1064b9e8",
   "metadata": {
    "scrolled": true
   },
   "source": [
    "### string & tuples are basically same work"
   ]
  },
  {
   "cell_type": "code",
   "execution_count": 7,
   "id": "a15393e3",
   "metadata": {},
   "outputs": [
    {
     "data": {
      "text/plain": [
       "1"
      ]
     },
     "execution_count": 7,
     "metadata": {},
     "output_type": "execute_result"
    }
   ],
   "source": [
    "# Extracting Individual Elements\n",
    "tup1 = (1,\"a\",True,2,\"b\",False)\n",
    "tup1[0]"
   ]
  },
  {
   "cell_type": "code",
   "execution_count": 30,
   "id": "1a2f299f",
   "metadata": {},
   "outputs": [
    {
     "data": {
      "text/plain": [
       "False"
      ]
     },
     "execution_count": 30,
     "metadata": {},
     "output_type": "execute_result"
    }
   ],
   "source": [
    "# Extracting last Elements\n",
    "tup1 = (1,\"a\",True,2,\"b\",False)\n",
    "tup1[-1]"
   ]
  },
  {
   "cell_type": "code",
   "execution_count": 9,
   "id": "deed48af",
   "metadata": {},
   "outputs": [
    {
     "data": {
      "text/plain": [
       "('a', True, 2)"
      ]
     },
     "execution_count": 9,
     "metadata": {},
     "output_type": "execute_result"
    }
   ],
   "source": [
    "# Extracting Sequence Elements\n",
    "tup1 = (1,\"a\",True,2,\"b\",False)\n",
    "tup1[1:4]"
   ]
  },
  {
   "cell_type": "markdown",
   "id": "06553193",
   "metadata": {},
   "source": [
    "### Tuple can't modifiy because it is immutable"
   ]
  },
  {
   "cell_type": "code",
   "execution_count": 11,
   "id": "21d765b2",
   "metadata": {},
   "outputs": [
    {
     "ename": "TypeError",
     "evalue": "'tuple' object does not support item assignment",
     "output_type": "error",
     "traceback": [
      "\u001b[1;31m---------------------------------------------------------------------------\u001b[0m",
      "\u001b[1;31mTypeError\u001b[0m                                 Traceback (most recent call last)",
      "Cell \u001b[1;32mIn[11], line 1\u001b[0m\n\u001b[1;32m----> 1\u001b[0m tup1[\u001b[38;5;241m2\u001b[39m]\u001b[38;5;241m=\u001b[39m\u001b[38;5;124m\"\u001b[39m\u001b[38;5;124mhello\u001b[39m\u001b[38;5;124m\"\u001b[39m\n",
      "\u001b[1;31mTypeError\u001b[0m: 'tuple' object does not support item assignment"
     ]
    }
   ],
   "source": [
    "#E.g.\n",
    "tup1[2]=\"hello\""
   ]
  },
  {
   "cell_type": "code",
   "execution_count": 13,
   "id": "9bfaf549",
   "metadata": {},
   "outputs": [
    {
     "data": {
      "text/plain": [
       "6"
      ]
     },
     "execution_count": 13,
     "metadata": {},
     "output_type": "execute_result"
    }
   ],
   "source": [
    "# Tuple Basic Operations\n",
    "\n",
    "# Finding Length of Tuple\n",
    "tup1 = (1,\"a\",True,2,\"b\",False)\n",
    "len(tup1)"
   ]
  },
  {
   "cell_type": "code",
   "execution_count": 14,
   "id": "514878c4",
   "metadata": {},
   "outputs": [
    {
     "data": {
      "text/plain": [
       "(1, 2, 3, 4, 5, 6)"
      ]
     },
     "execution_count": 14,
     "metadata": {},
     "output_type": "execute_result"
    }
   ],
   "source": [
    "# Concatenating Tuples\n",
    "tup1 = (1,2,3)\n",
    "tup2 = (4,5,6)\n",
    "tup1+tup2"
   ]
  },
  {
   "cell_type": "code",
   "execution_count": 16,
   "id": "fc80d034",
   "metadata": {},
   "outputs": [
    {
     "data": {
      "text/plain": [
       "('Yes', 400, 'Yes', 400, 'Yes', 400)"
      ]
     },
     "execution_count": 16,
     "metadata": {},
     "output_type": "execute_result"
    }
   ],
   "source": [
    "# Repeating Tuple Elements\n",
    "tup1 = ('Yes', 400)\n",
    "tup1*3"
   ]
  },
  {
   "cell_type": "code",
   "execution_count": 17,
   "id": "e14d6b0b",
   "metadata": {},
   "outputs": [
    {
     "data": {
      "text/plain": [
       "('Yes', 400, 'Yes', 400, 'Yes', 400, 4, 5, 6)"
      ]
     },
     "execution_count": 17,
     "metadata": {},
     "output_type": "execute_result"
    }
   ],
   "source": [
    "# Repeating & Concatenating\n",
    "tup1 = ('Yes', 400)\n",
    "tup2 = (4,5,6)\n",
    "tup1*3 + tup2"
   ]
  },
  {
   "cell_type": "code",
   "execution_count": 18,
   "id": "a310818a",
   "metadata": {},
   "outputs": [
    {
     "data": {
      "text/plain": [
       "1"
      ]
     },
     "execution_count": 18,
     "metadata": {},
     "output_type": "execute_result"
    }
   ],
   "source": [
    "# Minimum value\n",
    "tup1 = (1,2,3,4,6,3)\n",
    "min(tup1)"
   ]
  },
  {
   "cell_type": "code",
   "execution_count": 21,
   "id": "ae61dd09",
   "metadata": {},
   "outputs": [
    {
     "data": {
      "text/plain": [
       "6"
      ]
     },
     "execution_count": 21,
     "metadata": {},
     "output_type": "execute_result"
    }
   ],
   "source": [
    "# Maximum value\n",
    "tup1 = (1,2,6,3)\n",
    "max(tup1)"
   ]
  },
  {
   "cell_type": "markdown",
   "id": "10c30eba",
   "metadata": {},
   "source": [
    "### List []\n",
    "- List is an ORDERED collection of elements enclosed within []\n",
    "- store hetrogenous elements (different types of elements)\n",
    "- List are mutable -->  changable values\n",
    "- E.g.\\\n",
    "  lis1=[1,'a',True]"
   ]
  },
  {
   "cell_type": "code",
   "execution_count": 37,
   "id": "98cefb53",
   "metadata": {},
   "outputs": [
    {
     "data": {
      "text/plain": [
       "[1, True, 3.14, -2]"
      ]
     },
     "execution_count": 37,
     "metadata": {},
     "output_type": "execute_result"
    }
   ],
   "source": [
    "# list\n",
    "\n",
    "lis1 = [1,True,3.14,5-7]\n",
    "lis1"
   ]
  },
  {
   "cell_type": "code",
   "execution_count": 36,
   "id": "2fa5b46a",
   "metadata": {},
   "outputs": [
    {
     "data": {
      "text/plain": [
       "list"
      ]
     },
     "execution_count": 36,
     "metadata": {},
     "output_type": "execute_result"
    }
   ],
   "source": [
    "lis1 = [1,True,3.14,5-7]\n",
    "type(lis1)"
   ]
  },
  {
   "cell_type": "code",
   "execution_count": 38,
   "id": "6b10b705",
   "metadata": {},
   "outputs": [
    {
     "data": {
      "text/plain": [
       "5"
      ]
     },
     "execution_count": 38,
     "metadata": {},
     "output_type": "execute_result"
    }
   ],
   "source": [
    "# Extracting Individual Elements\n",
    "lis1 = [5,\"a\",2,\"b\",3,\"c\"]\n",
    "lis1[0]"
   ]
  },
  {
   "cell_type": "code",
   "execution_count": 39,
   "id": "81b131e5",
   "metadata": {},
   "outputs": [
    {
     "data": {
      "text/plain": [
       "[2, 'b', 3]"
      ]
     },
     "execution_count": 39,
     "metadata": {},
     "output_type": "execute_result"
    }
   ],
   "source": [
    "# Extracting Sequence Elements\n",
    "lis1 = [5,\"a\",2,\"b\",3,\"c\"]\n",
    "lis1[2:5]"
   ]
  },
  {
   "cell_type": "markdown",
   "id": "e627cd0b",
   "metadata": {},
   "source": [
    "#### Modifying a List"
   ]
  },
  {
   "cell_type": "code",
   "execution_count": 43,
   "id": "a0d05e7f",
   "metadata": {},
   "outputs": [
    {
     "data": {
      "text/plain": [
       "[100, 'a', 2, 'b', 3, 'c']"
      ]
     },
     "execution_count": 43,
     "metadata": {},
     "output_type": "execute_result"
    }
   ],
   "source": [
    "# Changing the element at 0th index\n",
    "\n",
    "lis1 = [5,\"a\",2,\"b\",3,\"c\"]\n",
    "lis1[0]=100\n",
    "lis1"
   ]
  },
  {
   "cell_type": "code",
   "execution_count": 44,
   "id": "a7109388",
   "metadata": {},
   "outputs": [
    {
     "data": {
      "text/plain": [
       "[5, 'a', 2, 'b', 3, 'c', 'Yes']"
      ]
     },
     "execution_count": 44,
     "metadata": {},
     "output_type": "execute_result"
    }
   ],
   "source": [
    "# Appending a new element\n",
    "\n",
    "lis1 = [5,\"a\",2,\"b\",3,\"c\"]\n",
    "lis1.append(\"Yes\")\n",
    "lis1"
   ]
  },
  {
   "cell_type": "code",
   "execution_count": 45,
   "id": "8b2d5841",
   "metadata": {},
   "outputs": [
    {
     "data": {
      "text/plain": [
       "[5, 'a', 2, 'b', 3]"
      ]
     },
     "execution_count": 45,
     "metadata": {},
     "output_type": "execute_result"
    }
   ],
   "source": [
    "# Appending the last element\n",
    "  # by default remove last element through pop up\n",
    "lis1 = [5,\"a\",2,\"b\",3,\"c\"]\n",
    "lis1.pop()\n",
    "lis1"
   ]
  },
  {
   "cell_type": "code",
   "execution_count": 50,
   "id": "1f688738",
   "metadata": {},
   "outputs": [
    {
     "data": {
      "text/plain": [
       "[5, 'a', 2, 3, 'c']"
      ]
     },
     "execution_count": 50,
     "metadata": {},
     "output_type": "execute_result"
    }
   ],
   "source": [
    "lis1 = [5,\"a\",2,\"b\",3,\"c\"]\n",
    "lis1.pop(3)\n",
    "lis1"
   ]
  },
  {
   "cell_type": "code",
   "execution_count": 52,
   "id": "ec2d774f",
   "metadata": {},
   "outputs": [
    {
     "data": {
      "text/plain": [
       "['c', 3, 'b', 2, 'a', 5]"
      ]
     },
     "execution_count": 52,
     "metadata": {},
     "output_type": "execute_result"
    }
   ],
   "source": [
    "# Reversing elements of a list\n",
    "\n",
    "lis1 = [5,\"a\",2,\"b\",3,\"c\"]\n",
    "lis1.reverse()\n",
    "lis1"
   ]
  },
  {
   "cell_type": "code",
   "execution_count": 54,
   "id": "a1dc1d00",
   "metadata": {},
   "outputs": [
    {
     "data": {
      "text/plain": [
       "[5, 'a', 2, 'b', 'Yes', 3, 'c']"
      ]
     },
     "execution_count": 54,
     "metadata": {},
     "output_type": "execute_result"
    }
   ],
   "source": [
    "# Inserting element at a specified index\n",
    "\n",
    "lis1 = [5,\"a\",2,\"b\",3,\"c\"]\n",
    "lis1.insert(4,\"Yes\")\n",
    "lis1"
   ]
  },
  {
   "cell_type": "code",
   "execution_count": 58,
   "id": "0e38e883",
   "metadata": {},
   "outputs": [
    {
     "data": {
      "text/plain": [
       "['apple', 'banana', 'grapes', 'mango']"
      ]
     },
     "execution_count": 58,
     "metadata": {},
     "output_type": "execute_result"
    }
   ],
   "source": [
    "# Sorting a list\n",
    "\n",
    "lis1 = [\"mango\",\"banana\",\"grapes\",\"apple\"]\n",
    "lis1.sort()\n",
    "lis1"
   ]
  },
  {
   "cell_type": "markdown",
   "id": "2d8c077a",
   "metadata": {},
   "source": [
    "#### List Basic Operations"
   ]
  },
  {
   "cell_type": "code",
   "execution_count": 61,
   "id": "3cdf5aec",
   "metadata": {},
   "outputs": [
    {
     "data": {
      "text/plain": [
       "[1, 2, 3, 'a', 'b', 'c']"
      ]
     },
     "execution_count": 61,
     "metadata": {},
     "output_type": "execute_result"
    }
   ],
   "source": [
    "# Concatenating Lists\n",
    "\n",
    "l1 = [1,2,3]\n",
    "l2 = [\"a\",\"b\",\"c\"]\n",
    "l1+l2"
   ]
  },
  {
   "cell_type": "code",
   "execution_count": 68,
   "id": "2e84c17b",
   "metadata": {},
   "outputs": [
    {
     "data": {
      "text/plain": [
       "[1, 'a', True, 1, 'a', True]"
      ]
     },
     "execution_count": 68,
     "metadata": {},
     "output_type": "execute_result"
    }
   ],
   "source": [
    "# Repeating elements\n",
    "\n",
    "l1 = [1,\"a\",True]\n",
    "l1*2"
   ]
  },
  {
   "cell_type": "code",
   "execution_count": null,
   "id": "89d1e955",
   "metadata": {},
   "outputs": [],
   "source": []
  },
  {
   "cell_type": "markdown",
   "id": "500d59e9",
   "metadata": {},
   "source": [
    "### Dictionary {}\n",
    "- List is an UNordered collection of key-value pairs enclosed within {}\n",
    "- store hetrogenous elements (different types of elements)\n",
    "- Dictionary is mutable -->  changable values\n",
    "- E.g.\\\n",
    "  dic={\"AC\":11,\"OG\":23}"
   ]
  },
  {
   "cell_type": "code",
   "execution_count": 80,
   "id": "880d09f7",
   "metadata": {},
   "outputs": [
    {
     "data": {
      "text/plain": [
       "{'Apple': 300, 'banana': 100, 'grapes': 200, 'Mango': 500}"
      ]
     },
     "execution_count": 80,
     "metadata": {},
     "output_type": "execute_result"
    }
   ],
   "source": [
    "d1 = {\"Apple\":300,\"banana\":100,\"grapes\":200,\"Mango\":500}\n",
    "d1"
   ]
  },
  {
   "cell_type": "code",
   "execution_count": 81,
   "id": "e52aedfd",
   "metadata": {},
   "outputs": [
    {
     "data": {
      "text/plain": [
       "dict"
      ]
     },
     "execution_count": 81,
     "metadata": {},
     "output_type": "execute_result"
    }
   ],
   "source": [
    "type(d1)"
   ]
  },
  {
   "cell_type": "code",
   "execution_count": 84,
   "id": "e3705b7c",
   "metadata": {},
   "outputs": [
    {
     "data": {
      "text/plain": [
       "dict_keys(['Apple', 'banana', 'grapes', 'Mango'])"
      ]
     },
     "execution_count": 84,
     "metadata": {},
     "output_type": "execute_result"
    }
   ],
   "source": [
    "# Extracting Keys\n",
    "\n",
    "d1 = {\"Apple\":300,\"banana\":100,\"grapes\":200,\"Mango\":500}\n",
    "d1.keys()"
   ]
  },
  {
   "cell_type": "code",
   "execution_count": 86,
   "id": "99601880",
   "metadata": {},
   "outputs": [
    {
     "data": {
      "text/plain": [
       "dict_values([300, 100, 200, 500])"
      ]
     },
     "execution_count": 86,
     "metadata": {},
     "output_type": "execute_result"
    }
   ],
   "source": [
    "# Extracting Values\n",
    "\n",
    "d1 = {\"Apple\":300,\"banana\":100,\"grapes\":200,\"Mango\":500}\n",
    "d1.values()"
   ]
  },
  {
   "cell_type": "code",
   "execution_count": null,
   "id": "9c8df597",
   "metadata": {},
   "outputs": [],
   "source": []
  },
  {
   "cell_type": "markdown",
   "id": "db457c39",
   "metadata": {},
   "source": [
    "#### Modifying a dictonary                                                   "
   ]
  },
  {
   "cell_type": "code",
   "execution_count": 88,
   "id": "a2b210bf",
   "metadata": {},
   "outputs": [
    {
     "data": {
      "text/plain": [
       "{'Apple': 300, 'banana': 100, 'grapes': 200, 'Mango': 500, 'Guava': 50}"
      ]
     },
     "execution_count": 88,
     "metadata": {},
     "output_type": "execute_result"
    }
   ],
   "source": [
    "# Adding a new element\n",
    "\n",
    "d1 = {\"Apple\":300,\"banana\":100,\"grapes\":200,\"Mango\":500}\n",
    "d1[\"Guava\"]=50\n",
    "d1"
   ]
  },
  {
   "cell_type": "code",
   "execution_count": 89,
   "id": "5ac18032",
   "metadata": {},
   "outputs": [
    {
     "data": {
      "text/plain": [
       "{'Apple': 300, 'banana': 100, 'grapes': 200, 'Mango': 500, 'Guava': 50}"
      ]
     },
     "execution_count": 89,
     "metadata": {},
     "output_type": "execute_result"
    }
   ],
   "source": [
    "# Changging a new element\n",
    "\n",
    "d1 = {\"Apple\":300,\"banana\":100,\"grapes\":200,\"Mango\":500}\n",
    "d1[\"Guava\"]=50\n",
    "d1"
   ]
  },
  {
   "cell_type": "code",
   "execution_count": 91,
   "id": "87fc5b7a",
   "metadata": {},
   "outputs": [
    {
     "data": {
      "text/plain": [
       "{'Apple': 530, 'banana': 100, 'grapes': 200, 'Mango': 500}"
      ]
     },
     "execution_count": 91,
     "metadata": {},
     "output_type": "execute_result"
    }
   ],
   "source": [
    "# Changing an existing element\n",
    "\n",
    "# Changging a new element\n",
    "\n",
    "d1 = {\"Apple\":300,\"banana\":100,\"grapes\":200,\"Mango\":500}\n",
    "d1[\"Apple\"]=530\n",
    "d1"
   ]
  },
  {
   "cell_type": "markdown",
   "id": "4d967154",
   "metadata": {},
   "source": [
    "#### Dictonary Functions"
   ]
  },
  {
   "cell_type": "code",
   "execution_count": 97,
   "id": "3bfaf0d9",
   "metadata": {},
   "outputs": [
    {
     "data": {
      "text/plain": [
       "{'Apple': 300, 'banana': 100, 'grapes': 200, 'Mango': 500}"
      ]
     },
     "execution_count": 97,
     "metadata": {},
     "output_type": "execute_result"
    }
   ],
   "source": [
    "# update one dictionary elements with another\n",
    "\n",
    "d1 = {\"Apple\":300,\"Orange\":100}\n",
    "d2 = {\"grapes\":200,\"Mango\":500}\n",
    "\n",
    "d1.update(d2)\n",
    "d1"
   ]
  },
  {
   "cell_type": "code",
   "execution_count": 99,
   "id": "a504e4d4",
   "metadata": {},
   "outputs": [
    {
     "data": {
      "text/plain": [
       "{'Apple': 300, 'banana': 100, 'grapes': 200, 'Mango': 500}"
      ]
     },
     "execution_count": 99,
     "metadata": {},
     "output_type": "execute_result"
    }
   ],
   "source": [
    "# Popping an element - remove any element\n",
    "\n",
    "d1 = {\"Apple\":300,\"Orange\":100,\"banana\":100,\"grapes\":200,\"Mango\":500}\n",
    "\n",
    "d1.pop(\"Orange\")\n",
    "d1\n"
   ]
  },
  {
   "cell_type": "code",
   "execution_count": null,
   "id": "d8cbda43",
   "metadata": {},
   "outputs": [],
   "source": []
  },
  {
   "cell_type": "code",
   "execution_count": null,
   "id": "e1c9b394",
   "metadata": {},
   "outputs": [],
   "source": []
  },
  {
   "cell_type": "code",
   "execution_count": null,
   "id": "24b1e997",
   "metadata": {},
   "outputs": [],
   "source": [
    "01:10:30"
   ]
  },
  {
   "cell_type": "code",
   "execution_count": null,
   "id": "5fda50c5",
   "metadata": {},
   "outputs": [],
   "source": []
  }
 ],
 "metadata": {
  "kernelspec": {
   "display_name": "Python 3 (ipykernel)",
   "language": "python",
   "name": "python3"
  },
  "language_info": {
   "codemirror_mode": {
    "name": "ipython",
    "version": 3
   },
   "file_extension": ".py",
   "mimetype": "text/x-python",
   "name": "python",
   "nbconvert_exporter": "python",
   "pygments_lexer": "ipython3",
   "version": "3.11.3"
  }
 },
 "nbformat": 4,
 "nbformat_minor": 5
}

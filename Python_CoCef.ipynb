print(8)
print(13, end=" ")
print(21)
